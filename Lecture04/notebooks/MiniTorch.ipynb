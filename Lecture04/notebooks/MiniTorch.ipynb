{
  "nbformat": 4,
  "nbformat_minor": 0,
  "metadata": {
    "colab": {
      "provenance": [],
      "gpuType": "T4",
      "include_colab_link": true
    },
    "kernelspec": {
      "name": "python3",
      "display_name": "Python 3"
    },
    "language_info": {
      "name": "python"
    },
    "accelerator": "GPU"
  },
  "cells": [
    {
      "cell_type": "markdown",
      "metadata": {
        "id": "view-in-github",
        "colab_type": "text"
      },
      "source": [
        "<a href=\"https://colab.research.google.com/github/manugallegog/AI_Lecture0/blob/main/Lecture04/notebooks/MiniTorch.ipynb\" target=\"_parent\"><img src=\"https://colab.research.google.com/assets/colab-badge.svg\" alt=\"Open In Colab\"/></a>"
      ]
    },
    {
      "cell_type": "code",
      "execution_count": 1,
      "metadata": {
        "id": "09Qu96B35Wdu"
      },
      "outputs": [],
      "source": [
        "%matplotlib inline\n",
        "import matplotlib.pyplot as plt\n",
        "from matplotlib import gridspec\n",
        "from sklearn.datasets import make_classification\n",
        "import numpy as np\n",
        "# pick the seed for reproducibility - change it to explore the effects of random variations\n",
        "np.random.seed(0)\n",
        "import random\n",
        "from tqdm import tqdm"
      ]
    },
    {
      "cell_type": "code",
      "source": [
        "import torch\n",
        "import torchvision\n",
        "import torchvision.transforms as transforms"
      ],
      "metadata": {
        "id": "TlUCB_zK6Scx"
      },
      "execution_count": 2,
      "outputs": []
    },
    {
      "cell_type": "code",
      "source": [
        "# Define a transform to normalize the data\n",
        "transform = transforms.Compose([transforms.ToTensor(), transforms.Normalize((0.5,), (0.5,))])\n",
        "# Download and load the training data\n",
        "trainset = torchvision.datasets.MNIST(root='./data', train=True, download=True, transform=transform)\n",
        "trainloader = torch.utils.data.DataLoader(trainset, batch_size=64, shuffle=True)\n",
        "# Download and load the test data\n",
        "testset = torchvision.datasets.MNIST(root='./data', train=False, download=True, transform=transform)\n",
        "testloader = torch.utils.data.DataLoader(testset, batch_size=64, shuffle=False)"
      ],
      "metadata": {
        "colab": {
          "base_uri": "https://localhost:8080/"
        },
        "id": "TIBpYf996Zit",
        "outputId": "3071c524-742a-4ca5-af68-da3600fa5076"
      },
      "execution_count": 3,
      "outputs": [
        {
          "output_type": "stream",
          "name": "stdout",
          "text": [
            "Downloading http://yann.lecun.com/exdb/mnist/train-images-idx3-ubyte.gz\n",
            "Failed to download (trying next):\n",
            "HTTP Error 403: Forbidden\n",
            "\n",
            "Downloading https://ossci-datasets.s3.amazonaws.com/mnist/train-images-idx3-ubyte.gz\n",
            "Downloading https://ossci-datasets.s3.amazonaws.com/mnist/train-images-idx3-ubyte.gz to ./data/MNIST/raw/train-images-idx3-ubyte.gz\n"
          ]
        },
        {
          "output_type": "stream",
          "name": "stderr",
          "text": [
            "100%|██████████| 9912422/9912422 [00:00<00:00, 15503057.21it/s]\n"
          ]
        },
        {
          "output_type": "stream",
          "name": "stdout",
          "text": [
            "Extracting ./data/MNIST/raw/train-images-idx3-ubyte.gz to ./data/MNIST/raw\n",
            "\n",
            "Downloading http://yann.lecun.com/exdb/mnist/train-labels-idx1-ubyte.gz\n",
            "Failed to download (trying next):\n",
            "HTTP Error 403: Forbidden\n",
            "\n",
            "Downloading https://ossci-datasets.s3.amazonaws.com/mnist/train-labels-idx1-ubyte.gz\n",
            "Downloading https://ossci-datasets.s3.amazonaws.com/mnist/train-labels-idx1-ubyte.gz to ./data/MNIST/raw/train-labels-idx1-ubyte.gz\n"
          ]
        },
        {
          "output_type": "stream",
          "name": "stderr",
          "text": [
            "100%|██████████| 28881/28881 [00:00<00:00, 462708.49it/s]\n"
          ]
        },
        {
          "output_type": "stream",
          "name": "stdout",
          "text": [
            "Extracting ./data/MNIST/raw/train-labels-idx1-ubyte.gz to ./data/MNIST/raw\n",
            "\n",
            "Downloading http://yann.lecun.com/exdb/mnist/t10k-images-idx3-ubyte.gz\n",
            "Failed to download (trying next):\n",
            "HTTP Error 403: Forbidden\n",
            "\n",
            "Downloading https://ossci-datasets.s3.amazonaws.com/mnist/t10k-images-idx3-ubyte.gz\n",
            "Downloading https://ossci-datasets.s3.amazonaws.com/mnist/t10k-images-idx3-ubyte.gz to ./data/MNIST/raw/t10k-images-idx3-ubyte.gz\n"
          ]
        },
        {
          "output_type": "stream",
          "name": "stderr",
          "text": [
            "100%|██████████| 1648877/1648877 [00:00<00:00, 4258443.68it/s]\n"
          ]
        },
        {
          "output_type": "stream",
          "name": "stdout",
          "text": [
            "Extracting ./data/MNIST/raw/t10k-images-idx3-ubyte.gz to ./data/MNIST/raw\n",
            "\n",
            "Downloading http://yann.lecun.com/exdb/mnist/t10k-labels-idx1-ubyte.gz\n",
            "Failed to download (trying next):\n",
            "HTTP Error 403: Forbidden\n",
            "\n",
            "Downloading https://ossci-datasets.s3.amazonaws.com/mnist/t10k-labels-idx1-ubyte.gz\n",
            "Downloading https://ossci-datasets.s3.amazonaws.com/mnist/t10k-labels-idx1-ubyte.gz to ./data/MNIST/raw/t10k-labels-idx1-ubyte.gz\n"
          ]
        },
        {
          "output_type": "stream",
          "name": "stderr",
          "text": [
            "100%|██████████| 4542/4542 [00:00<00:00, 5327329.07it/s]"
          ]
        },
        {
          "output_type": "stream",
          "name": "stdout",
          "text": [
            "Extracting ./data/MNIST/raw/t10k-labels-idx1-ubyte.gz to ./data/MNIST/raw\n",
            "\n"
          ]
        },
        {
          "output_type": "stream",
          "name": "stderr",
          "text": [
            "\n"
          ]
        }
      ]
    },
    {
      "cell_type": "code",
      "source": [
        "# Example: Iterate over a few batches\n",
        "for images, labels in trainloader:\n",
        "    print(images.shape, labels.shape)\n",
        "    break"
      ],
      "metadata": {
        "colab": {
          "base_uri": "https://localhost:8080/"
        },
        "id": "-t4LZI997v-6",
        "outputId": "d0c7d979-52ee-40b8-fb7c-7cb793eb07e3"
      },
      "execution_count": 4,
      "outputs": [
        {
          "output_type": "stream",
          "name": "stdout",
          "text": [
            "torch.Size([64, 1, 28, 28]) torch.Size([64])\n"
          ]
        }
      ]
    },
    {
      "cell_type": "code",
      "source": [
        "# Check some examples\n",
        "for images, labels in trainloader:\n",
        "    # Denormalize the images for plotting\n",
        "    images = images * 0.5 + 0.5\n",
        "\n",
        "    # Plot the images\n",
        "    plt.figure(figsize=(10, 10))\n",
        "    for i in range(9):  # Plot 9 images\n",
        "        ax = plt.subplot(3, 3, i + 1)\n",
        "        plt.imshow(images[i][0], cmap='gray')  # images[i][0] for grayscale images\n",
        "        plt.title(f\"Label: {labels[i].item()}\")\n",
        "        plt.axis('off')\n",
        "    plt.show()\n",
        "    break\n"
      ],
      "metadata": {
        "colab": {
          "base_uri": "https://localhost:8080/",
          "height": 829
        },
        "id": "UqqrP50f75ns",
        "outputId": "5c92a350-5dc5-49d6-ed51-b2033568a316"
      },
      "execution_count": 5,
      "outputs": [
        {
          "output_type": "display_data",
          "data": {
            "text/plain": [
              "<Figure size 1000x1000 with 9 Axes>"
            ],
            "image/png": "[encoded data removed]"
          },
          "metadata": {}
        }
      ]
    },
    {
      "cell_type": "markdown",
      "source": [
        "# **Linear Layer Exercise**\n",
        "\n",
        "In this exercise, you will implement a simple linear layer, commonly used in neural networks. The linear layer performs a linear transformation on the input data. You will be required to implement the forward pass, backward pass, and update equations for this layer.\n",
        "\n",
        "## **Tasks**\n",
        "\n",
        "You need to implement the following methods in the `Linear` class: `forward`, `backward`, and `update`.\n",
        "\n",
        "### **Forward Pass**\n",
        "\n",
        "In the forward pass, the linear layer computes the output as:\n",
        "\n",
        "$$\\mathbf{Z} = \\mathbf{X} \\mathbf{W} + \\mathbf{b}$$\n",
        "\n",
        "where:\n",
        "- $\\mathbf{X}$ is the input tensor of shape $(n_{\\text{batch}}, n_{\\text{in}})$\n",
        "- $\\mathbf{W}$ is the weight matrix of shape $(n_{\\text{in}}, n_{\\text{out}})$\n",
        "- $\\mathbf{b}$ is the bias vector of shape $(n_{\\text{out}},)$\n",
        "- $\\mathbf{Z}$ is the output tensor of shape $(n_{\\text{batch}}, n_{\\text{out}})$\n",
        "\n",
        "*Tip*: Move to self all the tensors needed to compute the gradient\n",
        "### **Backward Pass**\n",
        "\n",
        "In the backward pass, the gradients of the weights and biases are computed using the chain rule. Given the gradient of the loss with respect to the output $\\mathbf{dZ}$, we compute:\n",
        "\n",
        "$$\\mathbf{dW} = \\mathbf{X}^T \\mathbf{dZ}$$\n",
        "$$\\mathbf{db} = \\sum_{i=1}^{n_{\\text{batch}}} \\mathbf{dZ}_i$$\n",
        "$$\\mathbf{dX} = \\mathbf{dZ} \\mathbf{W}^T$$\n",
        "\n",
        "where:\n",
        "- $\\mathbf{dZ}$ is the gradient of the loss with respect to the output, with shape $(n_{\\text{batch}}, n_{\\text{out}})$\n",
        "- $\\mathbf{dW}$ is the gradient of the loss with respect to the weights, with shape $(n_{\\text{in}}, n_{\\text{out}})$\n",
        "- $\\mathbf{db}$ is the gradient of the loss with respect to the biases, with shape $(n_{\\text{out}},)$\n",
        "- $\\mathbf{dX}$ is the gradient of the loss with respect to the input, with shape $(n_{\\text{batch}}, n_{\\text{in}})$\n",
        "\n",
        "### **Update**\n",
        "\n",
        "In the update step, we adjust the weights and biases using the gradients computed during the backward pass and a learning rate \\(\\alpha\\):\n",
        "\n",
        "$$\\mathbf{W} \\leftarrow \\mathbf{W} - \\alpha \\mathbf{dW}$$\n",
        "$$\\mathbf{b} \\leftarrow \\mathbf{b} - \\alpha \\mathbf{db}$$\n",
        "\n",
        "where:\n",
        "- $\\alpha$ is the learning rate\n",
        "\n",
        "## **Instructions**\n",
        "\n",
        "1. **Forward Method**: Implement the forward pass by computing the linear transformation.\n",
        "2. **Backward Method**: Implement the backward pass by computing the gradients of the weights, biases, and inputs.\n",
        "3. **Update Method**: Implement the update step to adjust the weights and biases using the computed gradients and a given learning rate.\n",
        "\n",
        "Make sure to test your implementation with various input sizes to ensure it works correctly.\n",
        "\n",
        "\n"
      ],
      "metadata": {
        "id": "Jubg93HMPesy"
      }
    },
    {
      "cell_type": "code",
      "source": [
        "class Linear:\n",
        "    \"\"\"\n",
        "    A simple linear layer that performs a linear transformation.\n",
        "    \"\"\"\n",
        "    def __init__(self, nin, nout, device=\"cpu\"):\n",
        "        \"\"\"\n",
        "        Initialize the linear layer with random weights and zero biases.\n",
        "\n",
        "        Args:\n",
        "            nin (int): Number of input features.\n",
        "            nout (int): Number of output features.\n",
        "            device (str): Device to store the tensors ('cpu' or 'cuda').\n",
        "        \"\"\"\n",
        "        self.W = torch.randn(nin, nout, device=device, requires_grad=False)\n",
        "        self.b = torch.zeros(nout, device=device, requires_grad=False)\n",
        "\n",
        "    def forward(self, X):\n",
        "        \"\"\"\n",
        "        Perform the forward pass of the linear layer.\n",
        "\n",
        "        Args:\n",
        "            X (torch.Tensor): Input tensor with shape (n_batch, nin).\n",
        "\n",
        "        Returns:\n",
        "            torch.Tensor: Output tensor with shape (n_batch, nout).\n",
        "        \"\"\"\n",
        "        ###########YOUR CODE HERE################################\n",
        "        self.X = X\n",
        "        Z = #code\n",
        "        return Z\n",
        "\n",
        "\n",
        "    def backward(self, dZ):\n",
        "        \"\"\"\n",
        "        Perform the backward pass of the linear layer.\n",
        "\n",
        "        Args:\n",
        "            dZ (torch.Tensor): Gradient of the loss with respect to the output of the linear layer.\n",
        "\n",
        "        Returns:\n",
        "            torch.Tensor: Gradient of the loss with respect to the input of the linear layer.\n",
        "        \"\"\"\n",
        "        ###########YOUR CODE HERE################################\n",
        "        self.dW = #code\n",
        "        self.db = #code\n",
        "        self.dX = #code\n",
        "        return self.dX #What the net need to backpropagate\n",
        "\n",
        "    def update(self, lr):\n",
        "        \"\"\"\n",
        "        Update the weights and biases of the linear layer.\n",
        "\n",
        "        Args:\n",
        "            lr (float): Learning rate.\n",
        "        \"\"\"\n",
        "        ###########YOUR CODE HERE################################\n",
        "        self.W #code\n",
        "        self.b #code\n",
        "\n",
        "# Example usage\n",
        "nin = 4\n",
        "nout = 3\n",
        "n_batch = 5\n",
        "device = 'cuda' if torch.cuda.is_available() else 'cpu'\n",
        "device = 'cpu'\n",
        "# Simulated input tensor\n",
        "X = torch.randn(n_batch, nin).to(device)\n",
        "\n",
        "# Create an instance of the Linear class and compute the linear transformation\n",
        "net = Linear(nin, nout, device=device)\n",
        "Z = net.forward(X)\n",
        "print(Z.shape)"
      ],
      "metadata": {
        "colab": {
          "base_uri": "https://localhost:8080/"
        },
        "id": "A20c5lPy8dCQ",
        "outputId": "14a1659d-c6df-4f07-ba00-d31907569561"
      },
      "execution_count": null,
      "outputs": [
        {
          "output_type": "stream",
          "name": "stdout",
          "text": [
            "torch.Size([5, 3])\n"
          ]
        }
      ]
    },
    {
      "cell_type": "markdown",
      "source": [
        "# **Cross-Entropy Loss Exercise**\n",
        "\n",
        "In this exercise, you will implement the cross-entropy loss function, commonly used in classification tasks within neural networks. The cross-entropy loss measures the performance of a classification model whose output is a probability value between 0 and 1. You will be required to implement the forward pass to compute the loss and the backward pass to compute the gradient of the loss with respect to the input logits.\n",
        "\n",
        "## **Tasks**\n",
        "\n",
        "You need to implement the following methods in the `CrossEntropyFromLogits` class: `forward` and `backward`.\n",
        "\n",
        "### **Forward Pass**\n",
        "\n",
        "In the forward pass, the class computes the softmax probabilities, the log softmax, and then the cross-entropy loss. Given the input tensor $\\mathbf{Z}$ and the true labels $\\mathbf{Y}$, both of size $(n_{batch},n_{classes})$ we perform the following steps:\n",
        "\n",
        "1. **Softmax**: Compute the softmax probabilities:\n",
        "$$\\mathbf{A} = \\text{softmax}(\\mathbf{Z})$$\n",
        "\n",
        "2. **Log Softmax**: Compute the log softmax:\n",
        "$$\\text{log_softmax_Z} = \\log(\\text{softmax}(\\mathbf{Z}))$$\n",
        "\n",
        "3. **Log Probabilities**: Gather the log probabilities corresponding to the true labels:\n",
        "$$ \\text{log_probs} = \\text{log_softmax_Z}[\\text{range}(n_{\\text{batch}}), \\mathbf{Y}] $$\n",
        "\n",
        "4. **Cross-Entropy Loss**: Compute the cross-entropy loss:\n",
        "$$ \\text{loss} = -\\frac{1}{n_{\\text{batch}}} \\sum_{i=1}^{n_{\\text{batch}}} \\text{log_probs}_i $$\n",
        "\n",
        "where:\n",
        "- $\\mathbf{Z}$ is the input tensor with shape $(n_{\\text{batch}}, n_{\\text{classes}})$\n",
        "- $\\mathbf{Y}$ is the true labels tensor with shape $(n_{\\text{batch}},)$\n",
        "- $\\mathbf{A}$ is the softmax probabilities with shape $(n_{\\text{batch}}, n_{\\text{classes}})$\n",
        "- $\\text{log_softmax_Z}$ is the log softmax tensor with shape $(n_{\\text{batch}}, n_{\\text{classes}})$\n",
        "- $\\text{log_probs}$ is the log probabilities tensor with shape $(n_{\\text{batch}},)$\n",
        "- $\\text{loss} is the scalar cross-entropy loss\n",
        "\n",
        "### **Backward Pass**\n",
        "\n",
        "In the backward pass, we compute the gradient of the loss with respect to the input tensor $\\mathbf{Z}$. Given the softmax probabilities $\\mathbf{A}$ and the labels $\\mathbf{Y}$, we compute:\n",
        "\n",
        "$$\\mathbf{dZ} = \\mathbf{A} - \\mathbf{Y}_{\\text{one_hot}}$$\n",
        "\n",
        "where:\n",
        "- $\\mathbf{dZ}$ is the gradient of the loss with respect to $\\mathbf{Z}$, with shape $(n_{\\text{batch}}, n_{\\text{classes}})$\n",
        "- $\\mathbf{A}$ is the softmax probabilities with shape $(n_{\\text{batch}}, n_{\\text{classes}})$\n",
        "- $\\mathbf{Y}_{\\text{one_hot}}$ is the one-hot encoded true labels with shape $(n_{\\text{batch}}, n_{\\text{classes}})$\n",
        "\n",
        "The train loader returns labels as an array of size $n_{batch}$ where each value is an integer corresponding to the label of the sample. You need to one-hot-encode the labels.\n",
        "\n",
        "## **Instructions**\n",
        "\n",
        "1. **Forward Method**: Implement the forward pass by computing the softmax probabilities, log softmax, and cross-entropy loss.\n",
        "2. **Backward Method**: Implement the backward pass by computing the gradient of the loss with respect to the input tensor $\\mathbf{Z}$.\n",
        "\n",
        "Make sure to test your implementation with various input sizes to ensure it works correctly.\n",
        "\n"
      ],
      "metadata": {
        "id": "3-DpQ396RyJ0"
      }
    },
    {
      "cell_type": "code",
      "source": [
        "class CrossEntropyFromLogits:\n",
        "    \"\"\"\n",
        "    Class to perform the softmax operation.\n",
        "    \"\"\"\n",
        "\n",
        "    def forward(self, Z, Y):\n",
        "        \"\"\"\n",
        "        Perform the forward pass of the softmax function.\n",
        "\n",
        "        Args:\n",
        "            Z (torch.Tensor): Input tensor with shape (n_batch, n_classes).\n",
        "            Y (torch.Tensor): True labels with shape (n_batch, n_classes).\n",
        "\n",
        "        Returns:\n",
        "            torch.Tensor: Cross-entropy loss\n",
        "        \"\"\"\n",
        "        self.Y = Y\n",
        "        # Compute the softmax probabilities (just for the backward)\n",
        "        self.A = torch.nn.functional.softmax(Z, dim=1)\n",
        "\n",
        "        # Compute log softmax\n",
        "        log_softmax_Z = torch.nn.functional.log_softmax(Z, dim=1)\n",
        "\n",
        "        # Gather the log probabilities corresponding to the true labels\n",
        "        log_probs = log_softmax_Z[torch.arange(Z.size(0)), Y] #(n_batch,)\n",
        "\n",
        "        # Compute the cross-entropy loss\n",
        "        loss = #code\n",
        "\n",
        "        return loss\n",
        "\n",
        "    def backward(self, n_classes):\n",
        "        \"\"\"\n",
        "        Perform the backward pass of the softmax function.\n",
        "\n",
        "        Args:\n",
        "            n_classes: Needed to one-hot-encode the labels\n",
        "\n",
        "        Returns:\n",
        "            torch.Tensor: Gradient of the loss with respect to the input tensor.\n",
        "        \"\"\"\n",
        "        #########################YOUR CODE HERE#################################\n",
        "        dZ = #code\n",
        "        return dZ\n",
        "\n",
        "\n",
        "# Example usage\n",
        "nin = 4\n",
        "nout = 3\n",
        "n_batch = 5\n",
        "device = 'cuda' if torch.cuda.is_available() else 'cpu'\n",
        "device = 'cpu'\n",
        "# Simulated input tensor\n",
        "X = torch.randn(n_batch, nin).to(device)\n",
        "\n",
        "# Create an instance of the Linear class and compute the linear transformation\n",
        "net = Linear(nin, nout, device=device)\n",
        "Z = net.forward(X)\n",
        "\n",
        "\n",
        "CELoss = CrossEntropyFromLogits()\n",
        "Y = torch.randint(0, nout, (n_batch,))\n",
        "loss = CELoss.forward(Z, Y)\n",
        "print(loss)"
      ],
      "metadata": {
        "colab": {
          "base_uri": "https://localhost:8080/"
        },
        "id": "7ZYsEzaRBeKj",
        "outputId": "977e9043-b4ab-443b-c22b-be9a91911c49"
      },
      "execution_count": null,
      "outputs": [
        {
          "output_type": "stream",
          "name": "stdout",
          "text": [
            "tensor(1.5930, device='cuda:0')\n"
          ]
        }
      ]
    },
    {
      "cell_type": "markdown",
      "source": [
        "# **MNIST Classification**\n",
        "In this exercise, you will implement the a simple network composed of a linear layer and the cross-entropy loss function computed from the output of the linear layer. This combination is commonly used as the last layer in classification tasks within neural networks.\n",
        "\n",
        "We will use this implementation to train a model on the MNIST dataset, which consists of handwritten digits. The goal is to classify each image into one of the 10 digit classes (0-9).\n"
      ],
      "metadata": {
        "id": "gRwElc3LfIks"
      }
    },
    {
      "cell_type": "code",
      "source": [
        "# Check if CUDA is available and set the device accordingly\n",
        "device = 'cuda' if torch.cuda.is_available() else 'cpu'\n",
        "device = 'cpu'\n",
        "\n",
        "# Define the number of input features and output classes\n",
        "n_features = 784\n",
        "n_classes = 10\n",
        "\n",
        "# Initialize the network and loss function\n",
        "net = Linear(n_features, n_classes, device=device)\n",
        "CELoss = CrossEntropyFromLogits()\n",
        "\n",
        "# Set the learning rate\n",
        "learning_rate = 0.001\n",
        "\n",
        "# List to store loss values for plotting\n",
        "Loss = []\n",
        "\n",
        "# Variables to accumulate accuracy\n",
        "total_correct = 0\n",
        "total_samples = 0\n",
        "\n",
        "# Determine total number of batches\n",
        "total_batches = len(trainloader)\n",
        "\n",
        "# Training loop\n",
        "for batch_idx, (images, labels) in enumerate(tqdm(trainloader, desc=\"Training Batches\"), 1):\n",
        "    # Flatten the images and move them to the device\n",
        "    X = images.view(images.shape[0], -1).to(device)\n",
        "\n",
        "    # Forward pass: Compute predicted logits\n",
        "    Z = net.forward(X)\n",
        "\n",
        "    # Move labels to the device\n",
        "    Y = labels.to(device)\n",
        "\n",
        "    # Compute the cross-entropy loss\n",
        "    loss = CELoss.forward(Z, Y)\n",
        "\n",
        "    # Append the loss to the list\n",
        "    Loss.append(loss.detach().cpu().numpy())\n",
        "\n",
        "    # Backward pass: Compute the gradients\n",
        "    dZ = CELoss.backward(n_classes)\n",
        "    dX = net.backward(dZ)\n",
        "\n",
        "    # Update the network parameters\n",
        "    net.update(learning_rate)\n",
        "\n",
        "    # Compute the accuracy for the current batch\n",
        "    _, predicted = torch.max(Z, 1)\n",
        "    correct = (predicted == Y).sum().item()\n",
        "    total_correct += correct\n",
        "    total_samples += Y.size(0)\n",
        "\n",
        "    # Print the loss and accuracy every 10% of the total batches\n",
        "    if batch_idx % (total_batches // 10) == 0:\n",
        "        accuracy = total_correct / total_samples\n",
        "        tqdm.write(f\"Batch {batch_idx}/{total_batches} - Loss: {loss.item():.4f}, Accumulated Accuracy: {accuracy:.4f}\")\n",
        "\n",
        "# Compute and print the final accumulated accuracy\n",
        "accumulated_accuracy = total_correct / total_samples\n",
        "print(f\"Final Accumulated Accuracy: {accumulated_accuracy:.4f}\")\n",
        "\n",
        "# Plot the loss values\n",
        "plt.plot(np.array(Loss))\n",
        "plt.xlabel('Batch')\n",
        "plt.ylabel('Loss')\n",
        "plt.title('Training Loss')\n",
        "plt.show()"
      ],
      "metadata": {
        "id": "TYINJm8iZakK"
      },
      "execution_count": null,
      "outputs": []
    },
    {
      "cell_type": "code",
      "source": [
        "# Testing loop\n",
        "for batch_idx, (images, labels) in enumerate(tqdm(testloader, desc=\"Testing Batches\"), 1):\n",
        "    # Flatten the images and move them to the device\n",
        "    X = images.view(images.shape[0], -1).to(device)\n",
        "\n",
        "    # Forward pass: Compute predicted logits\n",
        "    Z = net.forward(X)\n",
        "\n",
        "    # Move labels to the device\n",
        "    Y = labels.to(device)\n",
        "\n",
        "    # Compute the accuracy for the current batch\n",
        "    _, predicted = torch.max(Z, 1)\n",
        "    correct = (predicted == Y).sum().item()\n",
        "    total_correct += correct\n",
        "    total_samples += Y.size(0)\n",
        "\n",
        "    # Print the loss and accuracy every 10% of the total batches\n",
        "    if batch_idx % (total_batches // 10) == 0:\n",
        "        accuracy = total_correct / total_samples\n",
        "        tqdm.write(f\"Batch {batch_idx}/{total_batches}, Accumulated Accuracy: {accuracy:.4f}\")\n",
        "\n",
        "# Compute and print the final accumulated accuracy\n",
        "accumulated_accuracy = total_correct / total_samples\n",
        "print(f\"Final Accumulated Accuracy: {accumulated_accuracy:.4f}\")"
      ],
      "metadata": {
        "colab": {
          "base_uri": "https://localhost:8080/"
        },
        "id": "zRVMF7F2hqDV",
        "outputId": "3ddc8597-caf2-443a-e6e8-2d1e5037cef7"
      },
      "execution_count": null,
      "outputs": [
        {
          "output_type": "stream",
          "name": "stderr",
          "text": [
            "Testing Batches:  68%|██████▊   | 107/157 [00:01<00:00, 79.93it/s]"
          ]
        },
        {
          "output_type": "stream",
          "name": "stdout",
          "text": [
            "Batch 93/938, Accumulated Accuracy: 0.7126\n"
          ]
        },
        {
          "output_type": "stream",
          "name": "stderr",
          "text": [
            "Testing Batches: 100%|██████████| 157/157 [00:01<00:00, 80.53it/s]"
          ]
        },
        {
          "output_type": "stream",
          "name": "stdout",
          "text": [
            "Final Accumulated Accuracy: 0.7196\n"
          ]
        },
        {
          "output_type": "stream",
          "name": "stderr",
          "text": [
            "\n"
          ]
        }
      ]
    },
    {
      "cell_type": "markdown",
      "source": [
        "## **Net Class Description**\n",
        "\n",
        "The `Net` class represents a neural network, allowing you to add layers and perform forward and backward passes through these layers. This class manages the sequence of layers and their interactions during training.\n",
        "\n",
        "### Class Methods\n",
        "\n",
        "The constructor initializes an empty list called `layers` to hold the different layers of the network.\n",
        "\n",
        "The add method appends a new layer to the network.\n",
        "\n",
        "The forward method performs the forward pass through all layers in the network. It takes an input tensor $\\mathbf{X} and sequentially applies each layer's forward method to it.\n",
        "\n",
        "The backward method performs the backward pass through all layers in the network in reverse order. It takes the gradient of the loss with respect to the output $\\mathbf{dZ}$ and sequentially applies each layer's backward method to it.\n",
        "\n",
        "The update method updates the parameters of all layers in the network using a given learning rate $\\alpha$.\n",
        "\n",
        "## **Tasks**\n",
        "\n",
        "You need to complete the implementation of the Net class by filling in the missing code for the forward, backward, and update methods.\n"
      ],
      "metadata": {
        "id": "s-YxmMx8g6ip"
      }
    },
    {
      "cell_type": "code",
      "source": [
        "class Net:\n",
        "    def __init__(self):\n",
        "        \"\"\"\n",
        "        Initialize the Net class.\n",
        "        This constructor initializes an empty list to hold the layers of the network.\n",
        "        \"\"\"\n",
        "        self.layers = []\n",
        "\n",
        "    def add(self, layer):\n",
        "        \"\"\"\n",
        "        Add a layer to the network.\n",
        "\n",
        "        Args:\n",
        "            layer: An instance of a layer (e.g., Linear) to be added to the network.\n",
        "        \"\"\"\n",
        "        self.layers.append(layer)\n",
        "\n",
        "    def forward(self, X):\n",
        "        \"\"\"\n",
        "        Perform the forward pass through all layers of the network.\n",
        "\n",
        "        Args:\n",
        "            X: Input tensor to the network.\n",
        "\n",
        "        Returns:\n",
        "            The output tensor after passing through all the layers.\n",
        "        \"\"\"\n",
        "        for layer in self.layers:\n",
        "            X = #code\n",
        "        return X\n",
        "\n",
        "    def backward(self, dZ):\n",
        "        \"\"\"\n",
        "        Perform the backward pass through all layers of the network.\n",
        "\n",
        "        Args:\n",
        "            dZ: Gradient of the loss with respect to the output of the network.\n",
        "\n",
        "        Returns:\n",
        "            The gradient of the loss with respect to the input of the network.\n",
        "        \"\"\"\n",
        "        for layer in reversed(self.layers):\n",
        "            dZ = #code\n",
        "        return dZ\n",
        "\n",
        "    def update(self, lr):\n",
        "        \"\"\"\n",
        "        Update the parameters of all layers in the network using the given learning rate.\n",
        "\n",
        "        Args:\n",
        "            lr: Learning rate for updating the parameters.\n",
        "        \"\"\"\n",
        "        for layer in self.layers:\n",
        "            #code"
      ],
      "metadata": {
        "id": "1imEUcxliTJK"
      },
      "execution_count": null,
      "outputs": []
    },
    {
      "cell_type": "code",
      "source": [
        "# Check if CUDA is available and set the device accordingly\n",
        "device = 'cuda' if torch.cuda.is_available() else 'cpu'\n",
        "# Forcing the device to CPU (this line will override the previous check)\n",
        "device = 'cpu'\n",
        "\n",
        "# Define the number of input features and output classes\n",
        "n_features = 784\n",
        "n_classes = 10\n",
        "\n",
        "# Initialize the network (assuming `Net` is a custom class that you've defined)\n",
        "net = Net()\n",
        "\n",
        "# Add a linear layer to the network with 784 input features and 1024 output features\n",
        "net.add(Linear(n_features, 1024, device=device))\n",
        "\n",
        "# Add another linear layer with 1024 input features and 10 output features\n",
        "net.add(Linear(1024, n_classes, device=device))\n",
        "\n",
        "# Initialize the custom cross-entropy loss function from logits\n",
        "CEloss = CrossEntropyFromLogits()"
      ],
      "metadata": {
        "id": "9Y0eoXyzjExZ"
      },
      "execution_count": null,
      "outputs": []
    },
    {
      "cell_type": "code",
      "source": [
        "# Set the learning rate\n",
        "learning_rate = 0.001\n",
        "\n",
        "# List to store loss values for plotting\n",
        "Loss = []\n",
        "\n",
        "# Variables to accumulate accuracy\n",
        "total_correct = 0\n",
        "total_samples = 0\n",
        "\n",
        "# Determine total number of batches\n",
        "total_batches = len(trainloader)\n",
        "\n",
        "# Training loop\n",
        "for batch_idx, (images, labels) in enumerate(tqdm(trainloader, desc=\"Training Batches\"), 1):\n",
        "    # Flatten the images and move them to the device\n",
        "    X = images.view(images.shape[0], -1).to(device)\n",
        "\n",
        "    # Forward pass: Compute predicted logits\n",
        "    Z = net.forward(X)\n",
        "\n",
        "    # Move labels to the device\n",
        "    Y = labels.to(device)\n",
        "\n",
        "    # Compute the cross-entropy loss\n",
        "    loss = CELoss.forward(Z, Y)\n",
        "\n",
        "    # Append the loss to the list\n",
        "    Loss.append(loss.detach().cpu().numpy())\n",
        "\n",
        "    # Backward pass: Compute the gradients\n",
        "    dZ = CELoss.backward(n_classes)\n",
        "    dX = net.backward(dZ)\n",
        "\n",
        "    # Update the network parameters\n",
        "    net.update(learning_rate)\n",
        "\n",
        "    # Compute the accuracy for the current batch\n",
        "    _, predicted = torch.max(Z, 1)\n",
        "    correct = (predicted == Y).sum().item()\n",
        "    total_correct += correct\n",
        "    total_samples += Y.size(0)\n",
        "\n",
        "    # Print the loss and accuracy every 10% of the total batches\n",
        "    if batch_idx % (total_batches // 10) == 0:\n",
        "        accuracy = total_correct / total_samples\n",
        "        tqdm.write(f\"Batch {batch_idx}/{total_batches} - Loss: {loss.item():.4f}, Accumulated Accuracy: {accuracy:.4f}\")\n",
        "\n",
        "# Compute and print the final accumulated accuracy\n",
        "accumulated_accuracy = total_correct / total_samples\n",
        "print(f\"Final Accumulated Accuracy: {accumulated_accuracy:.4f}\")\n",
        "\n",
        "# Plot the loss values\n",
        "plt.plot(np.array(Loss))\n",
        "plt.xlabel('Batch')\n",
        "plt.ylabel('Loss')\n",
        "plt.title('Training Loss')\n",
        "plt.show()"
      ],
      "metadata": {
        "id": "NqhIE7mKlTtO"
      },
      "execution_count": null,
      "outputs": []
    },
    {
      "cell_type": "code",
      "source": [
        "# Testing loop\n",
        "for batch_idx, (images, labels) in enumerate(tqdm(testloader, desc=\"Testing Batches\"), 1):\n",
        "    # Flatten the images and move them to the device\n",
        "    X = images.view(images.shape[0], -1).to(device)\n",
        "\n",
        "    # Forward pass: Compute predicted logits\n",
        "    Z = net.forward(X)\n",
        "\n",
        "    # Move labels to the device\n",
        "    Y = labels.to(device)\n",
        "\n",
        "    # Compute the accuracy for the current batch\n",
        "    _, predicted = torch.max(Z, 1)\n",
        "    correct = (predicted == Y).sum().item()\n",
        "    total_correct += correct\n",
        "    total_samples += Y.size(0)\n",
        "\n",
        "    # Print the loss and accuracy every 10% of the total batches\n",
        "    if batch_idx % (total_batches // 10) == 0:\n",
        "        accuracy = total_correct / total_samples\n",
        "        tqdm.write(f\"Batch {batch_idx}/{total_batches}, Accumulated Accuracy: {accuracy:.4f}\")\n",
        "\n",
        "# Compute and print the final accumulated accuracy\n",
        "accumulated_accuracy = total_correct / total_samples\n",
        "print(f\"Final Accumulated Accuracy: {accumulated_accuracy:.4f}\")"
      ],
      "metadata": {
        "id": "JeLmd0hUnlJZ"
      },
      "execution_count": null,
      "outputs": []
    },
    {
      "cell_type": "markdown",
      "source": [
        "## **ReLU Activation Layer Exercise**\n",
        "\n",
        "In this exercise, you will implement the ReLU (Rectified Linear Unit) activation function, commonly used in neural networks. ReLU introduces non-linearity into the model, which helps the network learn complex patterns. You will be required to implement the forward pass to apply the ReLU function and the backward pass to compute the gradient of the loss with respect to the input.\n",
        "\n",
        "### Class Methods\n",
        "\n",
        "#### `ReLU`\n",
        "The `ReLU` class represents the ReLU activation function, containing methods to perform the forward and backward passes.\n",
        "\n",
        "#### `forward`\n",
        "The `forward` method applies the ReLU activation function element-wise to the input tensor \\(\\mathbf{Z}\\).\n",
        "\n",
        "### **Tasks**\n",
        "\n",
        "You need to complete the implementation of the ReLU class by filling in the missing code for the forward and backward methods.\n"
      ],
      "metadata": {
        "id": "mzOgjgSoirlO"
      }
    },
    {
      "cell_type": "code",
      "source": [
        "class ReLU:\n",
        "    \"\"\"\n",
        "    ReLU activation layer.\n",
        "    \"\"\"\n",
        "\n",
        "    def forward(self, Z):\n",
        "        \"\"\"\n",
        "        Perform the forward pass of the ReLU activation function.\n",
        "\n",
        "        Args:\n",
        "            X (torch.Tensor): Input tensor.\n",
        "\n",
        "        Returns:\n",
        "            torch.Tensor: Output tensor with ReLU applied element-wise.\n",
        "        \"\"\"\n",
        "        self.A = #code\n",
        "        return self.A\n",
        "\n",
        "    def backward(self, dA):\n",
        "        \"\"\"\n",
        "        Perform the backward pass of the ReLU activation function.\n",
        "\n",
        "        Args:\n",
        "            dA (torch.Tensor): Gradient of the loss with respect to the output.\n",
        "\n",
        "        Returns:\n",
        "            torch.Tensor: Gradient of the loss with respect to the input.\n",
        "        \"\"\"\n",
        "        dZ = #code\n",
        "        return dZ\n",
        "\n",
        "    def update(self,lr):\n",
        "        \"\"\"\n",
        "        ReLU does not have any parameters to update.\n",
        "        \"\"\"\n",
        "        pass\n"
      ],
      "metadata": {
        "id": "tmEUvk1dod-N"
      },
      "execution_count": null,
      "outputs": []
    },
    {
      "cell_type": "code",
      "source": [
        "# Check if CUDA is available and set the device accordingly\n",
        "device = 'cuda' if torch.cuda.is_available() else 'cpu'\n",
        "# Forcing the device to CPU (this line will override the previous check)\n",
        "device = 'cpu'\n",
        "\n",
        "# Define the number of input features and output classes\n",
        "n_features = 784\n",
        "n_classes = 10\n",
        "\n",
        "# Initialize the network (assuming `Net` is a custom class that you've defined)\n",
        "net = Net()\n",
        "\n",
        "# Add a linear layer to the network with 784 input features and 1024 output features\n",
        "net.add(Linear(n_features, 1024, device=device))\n",
        "\n",
        "# Add a non-linear activation function\n",
        "net.add(ReLU())\n",
        "\n",
        "# Add another linear layer with 1024 input features and 10 output features\n",
        "net.add(Linear(1024, n_classes, device=device))\n",
        "\n",
        "# Initialize the custom cross-entropy loss function from logits\n",
        "CEloss = CrossEntropyFromLogits()"
      ],
      "metadata": {
        "id": "rRQxxSRlph7k"
      },
      "execution_count": null,
      "outputs": []
    },
    {
      "cell_type": "code",
      "source": [
        "# Set the learning rate\n",
        "learning_rate = 0.001\n",
        "\n",
        "# List to store loss values for plotting\n",
        "Loss = []\n",
        "\n",
        "# Variables to accumulate accuracy\n",
        "total_correct = 0\n",
        "total_samples = 0\n",
        "\n",
        "# Determine total number of batches\n",
        "total_batches = len(trainloader)\n",
        "\n",
        "# Training loop\n",
        "for batch_idx, (images, labels) in enumerate(tqdm(trainloader, desc=\"Training Batches\"), 1):\n",
        "    # Flatten the images and move them to the device\n",
        "    X = images.view(images.shape[0], -1).to(device)\n",
        "\n",
        "    # Forward pass: Compute predicted logits\n",
        "    Z = net.forward(X)\n",
        "\n",
        "    # Move labels to the device\n",
        "    Y = labels.to(device)\n",
        "\n",
        "    # Compute the cross-entropy loss\n",
        "    loss = CELoss.forward(Z, Y)\n",
        "\n",
        "    # Append the loss to the list\n",
        "    Loss.append(loss.detach().cpu().numpy())\n",
        "\n",
        "    # Backward pass: Compute the gradients\n",
        "    dZ = CELoss.backward(n_classes)\n",
        "    dX = net.backward(dZ)\n",
        "\n",
        "    # Update the network parameters\n",
        "    net.update(learning_rate)\n",
        "\n",
        "    # Compute the accuracy for the current batch\n",
        "    _, predicted = torch.max(Z, 1)\n",
        "    correct = (predicted == Y).sum().item()\n",
        "    total_correct += correct\n",
        "    total_samples += Y.size(0)\n",
        "\n",
        "    # Print the loss and accuracy every 10% of the total batches\n",
        "    if batch_idx % (total_batches // 10) == 0:\n",
        "        accuracy = total_correct / total_samples\n",
        "        tqdm.write(f\"Batch {batch_idx}/{total_batches} - Loss: {loss.item():.4f}, Accumulated Accuracy: {accuracy:.4f}\")\n",
        "\n",
        "# Compute and print the final accumulated accuracy\n",
        "accumulated_accuracy = total_correct / total_samples\n",
        "print(f\"Final Accumulated Accuracy: {accumulated_accuracy:.4f}\")\n",
        "\n",
        "# Plot the loss values\n",
        "plt.plot(np.array(Loss))\n",
        "plt.xlabel('Batch')\n",
        "plt.ylabel('Loss')\n",
        "plt.title('Training Loss')\n",
        "plt.show()"
      ],
      "metadata": {
        "id": "xCBYBn9Dp5mv"
      },
      "execution_count": null,
      "outputs": []
    },
    {
      "cell_type": "code",
      "source": [
        "# Testing loop\n",
        "for batch_idx, (images, labels) in enumerate(tqdm(testloader, desc=\"Testing Batches\"), 1):\n",
        "    # Flatten the images and move them to the device\n",
        "    X = images.view(images.shape[0], -1).to(device)\n",
        "\n",
        "    # Forward pass: Compute predicted logits\n",
        "    Z = net.forward(X)\n",
        "\n",
        "    # Move labels to the device\n",
        "    Y = labels.to(device)\n",
        "\n",
        "    # Compute the accuracy for the current batch\n",
        "    _, predicted = torch.max(Z, 1)\n",
        "    correct = (predicted == Y).sum().item()\n",
        "    total_correct += correct\n",
        "    total_samples += Y.size(0)\n",
        "\n",
        "    # Print the loss and accuracy every 10% of the total batches\n",
        "    if batch_idx % (total_batches // 10) == 0:\n",
        "        accuracy = total_correct / total_samples\n",
        "        tqdm.write(f\"Batch {batch_idx}/{total_batches}, Accumulated Accuracy: {accuracy:.4f}\")\n",
        "\n",
        "# Compute and print the final accumulated accuracy\n",
        "accumulated_accuracy = total_correct / total_samples\n",
        "print(f\"Final Accumulated Accuracy: {accumulated_accuracy:.4f}\")"
      ],
      "metadata": {
        "id": "WrIpeOWvwiZN"
      },
      "execution_count": null,
      "outputs": []
    }
  ]
}